{
 "cells": [
  {
   "cell_type": "code",
   "execution_count": 1,
   "id": "0fcd9ce1",
   "metadata": {},
   "outputs": [],
   "source": [
    "import cv2\n",
    "import os"
   ]
  },
  {
   "cell_type": "code",
   "execution_count": 2,
   "id": "533cfcd2",
   "metadata": {},
   "outputs": [
    {
     "data": {
      "text/plain": [
       "True"
      ]
     },
     "execution_count": 2,
     "metadata": {},
     "output_type": "execute_result"
    }
   ],
   "source": [
    "cam = cv2.VideoCapture(0)\n",
    "cam.set(3, 640) \n",
    "cam.set(4, 480)"
   ]
  },
  {
   "cell_type": "code",
   "execution_count": 3,
   "id": "b8a10904",
   "metadata": {},
   "outputs": [],
   "source": [
    "face_detector = cv2.CascadeClassifier('haarcascade_frontalface_default.xml')"
   ]
  },
  {
   "cell_type": "code",
   "execution_count": 4,
   "id": "e888ee9f",
   "metadata": {},
   "outputs": [
    {
     "name": "stdout",
     "output_type": "stream",
     "text": [
      "\n",
      " enter user id1\n"
     ]
    }
   ],
   "source": [
    "face_id = input('\\n enter user id')"
   ]
  },
  {
   "cell_type": "code",
   "execution_count": 5,
   "id": "f8c53bad",
   "metadata": {},
   "outputs": [
    {
     "name": "stdout",
     "output_type": "stream",
     "text": [
      "\n",
      " [INFO] Initializing face capture....\n"
     ]
    }
   ],
   "source": [
    "print(\"\\n [INFO] Initializing face capture....\")"
   ]
  },
  {
   "cell_type": "code",
   "execution_count": 6,
   "id": "0ee133e1",
   "metadata": {},
   "outputs": [],
   "source": [
    "count = 0"
   ]
  },
  {
   "cell_type": "code",
   "execution_count": 8,
   "id": "05d1f32d",
   "metadata": {},
   "outputs": [],
   "source": [
    "while(True):\n",
    "    ret, img = cam.read()\n",
    "    gray = cv2.cvtColor(img, cv2.COLOR_BGR2GRAY)\n",
    "    faces = face_detector.detectMultiScale(gray, 1.3, 5)\n",
    "    for (x,y,w,h) in faces:\n",
    "        cv2.rectangle(img, (x,y), (x+w,y+h), (255,0,0), 2)     \n",
    "        count += 1\n",
    "        cv2.imwrite(\"dataset/User.\" + str(face_id) + '.' + str(count) + \".jpg\", gray[y:y+h,x:x+w])\n",
    "        cv2.imshow('image', img)\n",
    "    k = cv2.waitKey(100) & 0xff \n",
    "    if k == 27:\n",
    "        break\n",
    "    elif count >= 50: \n",
    "         break"
   ]
  },
  {
   "cell_type": "code",
   "execution_count": 9,
   "id": "537ec22a",
   "metadata": {},
   "outputs": [
    {
     "name": "stdout",
     "output_type": "stream",
     "text": [
      "\n",
      " [INFO] Exiting Program\n"
     ]
    }
   ],
   "source": [
    "print(\"\\n [INFO] Exiting Program\")\n",
    "cam.release()\n",
    "cv2.destroyAllWindows()"
   ]
  },
  {
   "cell_type": "code",
   "execution_count": null,
   "id": "9a7b109b",
   "metadata": {},
   "outputs": [],
   "source": []
  }
 ],
 "metadata": {
  "kernelspec": {
   "display_name": "Python 3 (ipykernel)",
   "language": "python",
   "name": "python3"
  },
  "language_info": {
   "codemirror_mode": {
    "name": "ipython",
    "version": 3
   },
   "file_extension": ".py",
   "mimetype": "text/x-python",
   "name": "python",
   "nbconvert_exporter": "python",
   "pygments_lexer": "ipython3",
   "version": "3.9.13"
  }
 },
 "nbformat": 4,
 "nbformat_minor": 5
}
